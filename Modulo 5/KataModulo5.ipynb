{
 "cells": [
  {
   "cell_type": "markdown",
   "metadata": {},
   "source": [
    "# Operadores Matematicos"
   ]
  },
  {
   "cell_type": "code",
   "execution_count": 23,
   "metadata": {},
   "outputs": [
    {
     "name": "stdout",
     "output_type": "stream",
     "text": [
      "la distancia en kilometros entre Tierra y Jupiter es: 628949330\n",
      "la distancia en millas es: 390577534\n"
     ]
    }
   ],
   "source": [
    "Tierra = 149597870 # km\n",
    "Jupiter = 778547200 # km\n",
    "\n",
    "# medimos la distancia en km i millas\n",
    "distancia = abs(Tierra - Jupiter)\n",
    "millas = round(distancia * 0.621)\n",
    "\n",
    "print('la distancia en kilometros entre Tierra y Jupiter es: ' + str(distancia))\n",
    "print('la distancia en millas es: ' + str(millas))"
   ]
  },
  {
   "cell_type": "markdown",
   "metadata": {},
   "source": [
    "# Ejercicio 2\n",
    "cadenas a numeros y valores absolutos"
   ]
  },
  {
   "cell_type": "code",
   "execution_count": 27,
   "metadata": {},
   "outputs": [
    {
     "name": "stdout",
     "output_type": "stream",
     "text": [
      "13000\n",
      "4173.0\n"
     ]
    }
   ],
   "source": [
    "planeta1 = input(\"cual es la distancia del primer planeta en Km\")\n",
    "planeta2 = input(\"cual es la distancia del segundo planeta en Km\")\n",
    "\n",
    "# convertir en entero\n",
    "planeta1 = int(planeta1)\n",
    "planeta2 = int(planeta2)\n",
    "\n",
    "# restar valore\n",
    "restDistancia = abs(planeta1 - planeta2)\n",
    "\n",
    "print(restDistancia)\n",
    "print(restDistancia * 0.321)"
   ]
  }
 ],
 "metadata": {
  "interpreter": {
   "hash": "84ce06952b52acb5b719482c726aa8f1f0de530cee63389d2fd8051be28b06d5"
  },
  "kernelspec": {
   "display_name": "Python 3.10.2 64-bit",
   "language": "python",
   "name": "python3"
  },
  "language_info": {
   "codemirror_mode": {
    "name": "ipython",
    "version": 3
   },
   "file_extension": ".py",
   "mimetype": "text/x-python",
   "name": "python",
   "nbconvert_exporter": "python",
   "pygments_lexer": "ipython3",
   "version": "3.10.2"
  },
  "orig_nbformat": 4
 },
 "nbformat": 4,
 "nbformat_minor": 2
}
