{
 "cells": [
  {
   "cell_type": "markdown",
   "metadata": {},
   "source": [
    "# Ejercicio:\n",
    "Uso de funciones"
   ]
  },
  {
   "cell_type": "code",
   "execution_count": 84,
   "metadata": {},
   "outputs": [],
   "source": [
    "def reporte(tanque1, tanque2, tanque3):\n",
    "    return f\"\"\"Reporte completo:\n",
    "        Combustible promedio: {average([tanque1, tanque2, tanque3])}%\n",
    "        Combustible en tanque 1: {tanque1}%\n",
    "        Combustible en tanque 2: {tanque2}%\n",
    "        Combustible en tanque 3: {tanque3}%\n",
    "        \"\"\""
   ]
  },
  {
   "cell_type": "code",
   "execution_count": 85,
   "metadata": {},
   "outputs": [
    {
     "name": "stdout",
     "output_type": "stream",
     "text": [
      "Reporte completo:\n",
      "        Combustible promedio: 14.0%\n",
      "        Combustible en tanque 1: 12%\n",
      "        Combustible en tanque 2: 15%\n",
      "        Combustible en tanque 3: 15%\n",
      "        \n"
     ]
    }
   ],
   "source": [
    "print(reporte(12,15,15))"
   ]
  },
  {
   "cell_type": "code",
   "execution_count": 81,
   "metadata": {},
   "outputs": [],
   "source": [
    "def average(values):\n",
    "    total = sum(values)\n",
    "    num_items = len(values)\n",
    "    return total / num_items"
   ]
  },
  {
   "cell_type": "code",
   "execution_count": 83,
   "metadata": {},
   "outputs": [
    {
     "data": {
      "text/plain": [
       "14.0"
      ]
     },
     "execution_count": 83,
     "metadata": {},
     "output_type": "execute_result"
    }
   ],
   "source": [
    "average([12,15,15])"
   ]
  },
  {
   "cell_type": "markdown",
   "metadata": {},
   "source": [
    "# Ejercicio 2:\n",
    "Argumentos"
   ]
  },
  {
   "cell_type": "code",
   "execution_count": 137,
   "metadata": {},
   "outputs": [],
   "source": [
    "def informe_preciso(destino, *tiempo, **tanques):\n",
    "    reporte = f\"\"\"Reporte preciso:\n",
    "    Mision a: {destino}\n",
    "    Total de tiempo de vuelo: {sum(tiempo)} minutos\n",
    "    Total de combustible: {sum(tanques.values())} galones\n",
    "    \"\"\"\n",
    "    for tanque, galon in tanques.items():\n",
    "        reporte += f\"{tanque} tiene {galon} galones de combustible \\n\"\n",
    "    return reporte"
   ]
  },
  {
   "cell_type": "code",
   "execution_count": 127,
   "metadata": {},
   "outputs": [
    {
     "name": "stdout",
     "output_type": "stream",
     "text": [
      "Reporte preciso:\n",
      "    Mision a: Moon\n",
      "    Total de tiempo de vuelo: 63 minutos\n",
      "    Total de gasolina: 500000 galones\n",
      "    \n"
     ]
    }
   ],
   "source": [
    "print(informe_preciso(15,48,'Moon',200000,300000))"
   ]
  },
  {
   "cell_type": "code",
   "execution_count": 130,
   "metadata": {},
   "outputs": [
    {
     "name": "stdout",
     "output_type": "stream",
     "text": [
      "Reporte preciso:\n",
      "    Mision a: Moon\n",
      "    Total de tiempo de vuelo: 33 minutos\n",
      "    Total de gasolina: 500000 galones\n",
      "    \n"
     ]
    }
   ],
   "source": [
    "print(informe_preciso('Moon', 8, 15, 10, externo=200000, interno=300000))"
   ]
  },
  {
   "cell_type": "code",
   "execution_count": 138,
   "metadata": {},
   "outputs": [
    {
     "name": "stdout",
     "output_type": "stream",
     "text": [
      "Reporte preciso:\n",
      "    Mision a: Moon\n",
      "    Total de tiempo de vuelo: 52 minutos\n",
      "    Total de combustible: 500000 galones\n",
      "    externo tiene 200000 galones de combustible \n",
      "interno tiene 300000 galones de combustible \n",
      "\n"
     ]
    }
   ],
   "source": [
    "print(informe_preciso('Moon', 15, 17, 20, externo=200000, interno=300000))"
   ]
  }
 ],
 "metadata": {
  "interpreter": {
   "hash": "84ce06952b52acb5b719482c726aa8f1f0de530cee63389d2fd8051be28b06d5"
  },
  "kernelspec": {
   "display_name": "Python 3.10.2 64-bit",
   "language": "python",
   "name": "python3"
  },
  "language_info": {
   "codemirror_mode": {
    "name": "ipython",
    "version": 3
   },
   "file_extension": ".py",
   "mimetype": "text/x-python",
   "name": "python",
   "nbconvert_exporter": "python",
   "pygments_lexer": "ipython3",
   "version": "3.10.2"
  },
  "orig_nbformat": 4
 },
 "nbformat": 4,
 "nbformat_minor": 2
}
