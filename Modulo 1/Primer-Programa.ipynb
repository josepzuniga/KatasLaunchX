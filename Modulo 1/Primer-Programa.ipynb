## Mostrar fecha

from datetime import date

print ("Today's date is: " + str(date.today()))

## Construir un convertidor de unidades

parsec = input ("introduce los parsecs")
lightyears = 3.26156

print(str(parsec) + " parsec, is " + str(float(parsec) * float(lightyears)) + " lightyears")
