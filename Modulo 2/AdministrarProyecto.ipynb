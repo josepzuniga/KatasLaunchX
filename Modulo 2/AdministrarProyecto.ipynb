# Crear un entorno virtual

- ejectutamos en CMD el comando: python -m venv env
(captura de CMD)

- crea las subcarpetas siguientes:
(captura de vs code)

- en CMD activamos el entorno virtual con el comando: env\Scripts\activate
(captura de ejecucion)

-esto nos muestra que se activo y solo se instalaran librerias dentro del proyecto y no en todo el equipo

- ejecutamos el siguiente comando en CMD para instalar en el proyecto: pip install python-dateutil y se crea la siguiente carpeta dentro de "env"
(captura de vs code)

- para validar la version instalada ejecutamos el siguiente comando en CMD: pip freeze

- para salir del entorno virtual ejecutamos en CMD el comando: deactivate 
