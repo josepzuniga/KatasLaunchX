{
 "cells": [
  {
   "cell_type": "code",
   "execution_count": null,
   "metadata": {},
   "outputs": [],
   "source": [
    "# Ejercicio declaraciones\n",
    "Un asteroide se acerca, y viaja a una velocidad de 49 km/s."
   ]
  },
  {
   "cell_type": "code",
   "execution_count": null,
   "metadata": {},
   "outputs": [],
   "source": [
    "velAsteroide = 49\n",
    "velMaxima = 25\n",
    "\n",
    "if velAsteroide > velMaxima:\n",
    "    print('peligro! el asteroide viene a mayor velocidad')\n",
    "else:\n",
    "    print('No hay peligro')"
   ]
  },
  {
   "cell_type": "markdown",
   "metadata": {},
   "source": [
    "Si un asteroide entra en la atmósfera de la Tierra a una velocidad mayor o igual a 20 km/s, a veces produce un rayo de luz que se puede ver desde la Tierra"
   ]
  },
  {
   "cell_type": "code",
   "execution_count": null,
   "metadata": {},
   "outputs": [],
   "source": [
    "asteroide = 19\n",
    "rayoLuz = True\n",
    "\n",
    "if asteroide >= 20:\n",
    "    if rayoLuz == True:\n",
    "        print('buscar un asteroide en el cielo')\n",
    "    elif rayoLuz == False:\n",
    "        print('no hay peligro')\n",
    "else:\n",
    "    print('todo bajo control')"
   ]
  },
  {
   "cell_type": "markdown",
   "metadata": {},
   "source": [
    "Escribe un programa que emita la advertencia o información correcta a la gente de la Tierra, según la velocidad y el tamaño de un asteroide."
   ]
  },
  {
   "cell_type": "code",
   "execution_count": null,
   "metadata": {},
   "outputs": [],
   "source": [
    "velAsteroide = 49\n",
    "medida = 15\n",
    "\n",
    "if medida > 25 and velAsteroide > 25:\n",
    "    print('Peligro! un asteroide estar por caer')\n",
    "elif velAsteroide >= 20:\n",
    "    print('revisar si hay un rayo de luz en el cielo')\n",
    "elif medida < 25:\n",
    "    print('todo bajo control')\n",
    "else:\n",
    "    print('todo bajo control')"
   ]
  }
 ],
 "metadata": {
  "language_info": {
   "name": "python"
  },
  "orig_nbformat": 4
 },
 "nbformat": 4,
 "nbformat_minor": 2
}
