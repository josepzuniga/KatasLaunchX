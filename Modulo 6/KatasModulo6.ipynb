{
 "cells": [
  {
   "cell_type": "markdown",
   "metadata": {},
   "source": [
    "# Ejercicio 1\n",
    "Creación de listas"
   ]
  },
  {
   "cell_type": "code",
   "execution_count": 1,
   "metadata": {},
   "outputs": [
    {
     "name": "stdout",
     "output_type": "stream",
     "text": [
      "El numero de planetas del sistema solar es: 8\n"
     ]
    }
   ],
   "source": [
    "# Lista de planetas\n",
    "planetas = ['Mercurio', 'Venus', 'Tierra', 'Marte', 'Jupiter', 'Saturno', 'Urano', 'Nepturno']\n",
    "\n",
    "#numero de planetas\n",
    "numplanets = len(planetas)\n",
    "print('El numero de planetas del sistema solar es:', numplanets)"
   ]
  },
  {
   "cell_type": "code",
   "execution_count": 3,
   "metadata": {},
   "outputs": [
    {
     "name": "stdout",
     "output_type": "stream",
     "text": [
      "Al momento tenemos  9 planetas\n",
      "El ultimo planeta es  Pluton\n"
     ]
    }
   ],
   "source": [
    "#agregar a pluton\n",
    "planetas.append('Pluton')\n",
    "\n",
    "#mostrar numero de planetas y el ultimo\n",
    "print('Al momento tenemos ', len(planetas), 'planetas')\n",
    "print('El ultimo planeta es ', planetas[-1])"
   ]
  },
  {
   "cell_type": "markdown",
   "metadata": {},
   "source": [
    "# Ejercicio 2\n",
    "Datos de una lista"
   ]
  },
  {
   "cell_type": "code",
   "execution_count": 12,
   "metadata": {},
   "outputs": [
    {
     "name": "stdout",
     "output_type": "stream",
     "text": [
      "el planeta que buscas se encuentra en la posicion 4\n"
     ]
    }
   ],
   "source": [
    "planetas = ['Mercurio', 'Venus', 'Tierra', 'Marte', 'Jupiter', 'Saturno', 'Urano', 'Nepturno']\n",
    "\n",
    "# busqueda de planeta\n",
    "insPlanet = input('Introduce el planeta con la primera letra en Mayuscula')\n",
    "buscar = planetas.index(insPlanet)\n",
    "\n",
    "print('el planeta que buscas se encuentra en la posicion', buscar + 1)\n"
   ]
  },
  {
   "cell_type": "code",
   "execution_count": 14,
   "metadata": {},
   "outputs": [
    {
     "name": "stdout",
     "output_type": "stream",
     "text": [
      "los planetas mas sercanos al sol son ['Mercurio', 'Venus']\n"
     ]
    }
   ],
   "source": [
    "# Mas sercanos al sol\n",
    "entplan = input('Introduce el planeta con la primera letra en Mayuscula')\n",
    "resp = planetas.index(entplan)\n",
    "\n",
    "print('los planetas mas sercanos al sol son', planetas[0:resp])"
   ]
  },
  {
   "cell_type": "code",
   "execution_count": 18,
   "metadata": {},
   "outputs": [
    {
     "name": "stdout",
     "output_type": "stream",
     "text": [
      "los planetas mas sercanos al sol son ['Saturno', 'Urano', 'Nepturno']\n"
     ]
    }
   ],
   "source": [
    "# Mas lejanos al sol\n",
    "entplan = input('Introduce el planeta con la primera letra en Mayuscula')\n",
    "resp = planetas.index(entplan)\n",
    "\n",
    "print('los planetas mas sercanos al sol son', planetas[resp + 1:])"
   ]
  }
 ],
 "metadata": {
  "interpreter": {
   "hash": "84ce06952b52acb5b719482c726aa8f1f0de530cee63389d2fd8051be28b06d5"
  },
  "kernelspec": {
   "display_name": "Python 3.10.2 64-bit",
   "language": "python",
   "name": "python3"
  },
  "language_info": {
   "codemirror_mode": {
    "name": "ipython",
    "version": 3
   },
   "file_extension": ".py",
   "mimetype": "text/x-python",
   "name": "python",
   "nbconvert_exporter": "python",
   "pygments_lexer": "ipython3",
   "version": "3.10.2"
  },
  "orig_nbformat": 4
 },
 "nbformat": 4,
 "nbformat_minor": 2
}
