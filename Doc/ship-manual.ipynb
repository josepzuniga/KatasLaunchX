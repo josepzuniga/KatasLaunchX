## manual de la nave

pip install ipywidgets

import ipywidgets as widgets

## Crear el boton de lanzamiento
ignition = widgets.ToggleButton(
    value=False,
    description='Inicar Launch',
    button_style='success',
    tooltip='Engage your Launch',
    icon='rocket'
)

output = widgets.Output()

display(ignition, output)

def on_value_change(change):
    with output:
        if change['new'] == True:
            print("Nave Iniciada!")
        else:
            print("Nave Detenida")
    
    ignition.observe(on_value_change, names='value')

## Niveles de Oxígeno

Muestra diez minutos de niveles de oxígeno en tu nave.

pip install numpy
pip install matplotlib

import numpy as np
import matplotlib.pyplot as plt

data = np.random.default_rng(12345)
oxy_nums = data.integers(low=0, high=10, size=10)

plt.bar(range(len(oxy_nums)), oxy_nums)
plt.show()

## Valocidad de la nave

Muestra los segundos necesarios para pasar de 0 a 11200 metros por segundo, dada la aceleración de la nave en metros por segundo.

endVelocity = 10500
startVelocity = 0
acceleration = 11

time = (endVelocity - startVelocity) / acceleration
print("Tiempo para alcanzar la velocidad deseada = ", time)
