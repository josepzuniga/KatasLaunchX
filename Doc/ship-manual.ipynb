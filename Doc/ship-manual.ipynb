# manual de la nave

pip install ipywidgets

import ipywidgets as widgets

## Crear el boton de lanzamiento
ignition = widgets.ToggleButton(
    value=False,
    description='Inicar Launch',
    button_style='success',
    tooltip='Engage your Launch',
    icon='rocket'
)

output = widgets.Output()

display(ignition, output)

def on_value_change(change):
    with output:
        if change['new'] == True:
            print("Nave Iniciada!")
        else:
            print("Nave Detenida")
    
    ignition.observe(on_value_change, names='value')
